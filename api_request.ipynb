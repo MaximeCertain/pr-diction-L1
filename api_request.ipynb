{
 "cells": [
  {
   "cell_type": "code",
   "execution_count": 16,
   "metadata": {
    "collapsed": true
   },
   "outputs": [],
   "source": [
    "import requests"
   ]
  },
  {
   "cell_type": "markdown",
   "source": [
    "<h1>Entrainement de la machine </h1>\n",
    "<p>La machine va s'entrainer en traitant les données d'une <a href=https://www.thesportsdb.com/api.php>API de résultats de Football</a> (Appel dans TheSportsDbRepository.py)\n",
    "<p>Les cinq derniers matchs de l'équipe qui joue sont prit en compte et des statistiques sont générées grâce à cela. (Voir Modelization.py). Ces statistiques doivent aider à la prédiction\n",
    "<p>La machine va recevoir 100 matchs pour se former. Une colonne booléene de victoire (isWinning) représente le Y alors que le X est l'ensemble des colonnes de statistiques.\n",
    "<p>L'accuracyScore en retour de cette route nous montre quel est le pourcentage de réussite de réussite pour la machine à partir des colonnes X qu'on lui a fourni"
   ],
   "metadata": {
    "collapsed": false
   }
  },
  {
   "cell_type": "code",
   "execution_count": 17,
   "outputs": [
    {
     "data": {
      "text/plain": "{'accuracyScore': 60.0}"
     },
     "execution_count": 17,
     "metadata": {},
     "output_type": "execute_result"
    }
   ],
   "source": [
    "route='/training'\n",
    "url='http://127.0.0.1:9001'+route\n",
    "\n",
    "r=requests.get(url)\n",
    "r.json()"
   ],
   "metadata": {
    "collapsed": false,
    "pycharm": {
     "name": "#%%\n"
    }
   }
  },
  {
   "cell_type": "markdown",
   "source": [
    "<h1>Prédiction du résultat d'un match</h1>\n",
    "<p>On peut ici, en passant deux identifiant d'équipes à la réquête (idTeamA, idTeamB), prédire la probabilité de victoire pour chacune des deux équipes.\n",
    "<p>Le pourcentage représente la probabilité de victoire d'une équipe. (Pas de défaite ou de match nul)\n",
    "<h3>Marseille (A) VS Lens(B) </h3>"
   ],
   "metadata": {
    "collapsed": false
   }
  },
  {
   "cell_type": "code",
   "execution_count": 18,
   "outputs": [
    {
     "data": {
      "text/plain": "{'A': 54.0, 'B': 72.0}"
     },
     "execution_count": 18,
     "metadata": {},
     "output_type": "execute_result"
    }
   ],
   "source": [
    "route='/predict'\n",
    "payload = {'idTeamA': '133707', 'idTeamB': '133822'}\n",
    "url='http://127.0.0.1:9001'+route\n",
    "r=requests.get(url, payload)\n",
    "r.json()\n"
   ],
   "metadata": {
    "collapsed": false,
    "pycharm": {
     "name": "#%%\n"
    }
   }
  },
  {
   "cell_type": "markdown",
   "source": [
    "<h3>Lens (A) VS Marseille(B) </h3>"
   ],
   "metadata": {
    "collapsed": false
   }
  },
  {
   "cell_type": "code",
   "execution_count": 19,
   "outputs": [
    {
     "data": {
      "text/plain": "{'A': 70.0, 'B': 56.00000000000001}"
     },
     "execution_count": 19,
     "metadata": {},
     "output_type": "execute_result"
    }
   ],
   "source": [
    "route='/predict'\n",
    "payload = {'idTeamA': '133822', 'idTeamB': '133707'}\n",
    "url='http://127.0.0.1:9001'+route\n",
    "r=requests.get(url, payload)\n",
    "r.json()\n"
   ],
   "metadata": {
    "collapsed": false,
    "pycharm": {
     "name": "#%%\n"
    }
   }
  },
  {
   "cell_type": "code",
   "execution_count": 19,
   "outputs": [],
   "source": [],
   "metadata": {
    "collapsed": false,
    "pycharm": {
     "name": "#%%\n"
    }
   }
  },
  {
   "cell_type": "markdown",
   "source": [
    "<h3>Nantes (A) VS Paris SG (B) </h3>"
   ],
   "metadata": {
    "collapsed": false
   }
  },
  {
   "cell_type": "code",
   "execution_count": 20,
   "outputs": [
    {
     "data": {
      "text/plain": "{'A': 68.0, 'B': 57.99999999999999}"
     },
     "execution_count": 20,
     "metadata": {},
     "output_type": "execute_result"
    }
   ],
   "source": [
    "route='/predict'\n",
    "payload = {'idTeamA': '133861', 'idTeamB': '133714'}\n",
    "url='http://127.0.0.1:9001'+route\n",
    "r=requests.get(url, payload)\n",
    "r.json()"
   ],
   "metadata": {
    "collapsed": false,
    "pycharm": {
     "name": "#%%\n"
    }
   }
  },
  {
   "cell_type": "code",
   "execution_count": 20,
   "outputs": [],
   "source": [],
   "metadata": {
    "collapsed": false,
    "pycharm": {
     "name": "#%%\n"
    }
   }
  }
 ],
 "metadata": {
  "kernelspec": {
   "display_name": "Python 3",
   "language": "python",
   "name": "python3"
  },
  "language_info": {
   "codemirror_mode": {
    "name": "ipython",
    "version": 2
   },
   "file_extension": ".py",
   "mimetype": "text/x-python",
   "name": "python",
   "nbconvert_exporter": "python",
   "pygments_lexer": "ipython2",
   "version": "2.7.6"
  }
 },
 "nbformat": 4,
 "nbformat_minor": 0
}
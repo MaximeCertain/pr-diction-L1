{
 "cells": [
  {
   "cell_type": "code",
   "execution_count": 23,
   "metadata": {
    "collapsed": true,
    "pycharm": {
     "name": "#%%\n"
    }
   },
   "outputs": [],
   "source": [
    "import matplotlib.pyplot as plt\n",
    "import requests\n",
    "from thesportsdb.TheSportsDbRepository import *\n",
    "from thesportsdb.Cleaner import *\n",
    "import pandas as pd\n",
    "import seaborn as sns\n",
    "from sklearn.ensemble import RandomForestRegressor,GradientBoostingClassifier,RandomForestClassifier\n",
    "from sklearn.linear_model import LogisticRegression, LinearRegression\n",
    "from sklearn.model_selection import train_test_split\n",
    "from thesportsdb.Modelization import *\n",
    "from thesportsdb.Cleaner import *\n",
    "from thesportsdb.Predictor import *\n",
    "from thesportsdb.TheSportsDbRepository import *\n",
    "import pandas as pd\n",
    "from thesportsdb.StaticInfos import StaticInfos\n"
   ]
  },
  {
   "cell_type": "markdown",
   "source": [
    "<h1>Formation du dataframe à partir de l'api thesportsdb </h1>"
   ],
   "metadata": {
    "collapsed": false,
    "pycharm": {
     "name": "#%% md\n"
    }
   }
  },
  {
   "cell_type": "code",
   "execution_count": 24,
   "outputs": [],
   "source": [
    "nextRoundId = getNextRoundId() - 1\n",
    "matchsForRound = (getEventRoundForLigue(StaticInfos.ligue1Id, nextRoundId))\n",
    "df = pd.DataFrame(matchsForRound)\n",
    "df = cleanEvents(df)\n",
    "dfTotal = pd.DataFrame()\n",
    "load5LastMatchs(nextRoundId)\n",
    "for i in range(0, len(df)):\n",
    "    match = df.iloc[i]\n",
    "    awayDataframe = getDataframe(int(match['idAwayTeam']))\n",
    "    homeDataframe = getDataframe(int(match['idHomeTeam']))\n",
    "    if dfTotal.empty:\n",
    "        dfTotal = pd.concat([awayDataframe, homeDataframe])\n",
    "    else:\n",
    "        dfMatch = pd.concat([awayDataframe, homeDataframe])\n",
    "        dfTotal = pd.concat([dfTotal, dfMatch])"
   ],
   "metadata": {
    "collapsed": false,
    "pycharm": {
     "name": "#%%\n"
    }
   }
  },
  {
   "cell_type": "markdown",
   "source": [
    "5 Premières lignes et les clés du tableau"
   ],
   "metadata": {
    "collapsed": false
   }
  },
  {
   "cell_type": "code",
   "execution_count": 25,
   "outputs": [
    {
     "name": "stdout",
     "output_type": "stream",
     "text": [
      "Index(['score5LastMatchs', 'goalAverageLast5Matchs', 'last5MatchsScoredGoals',\n",
      "       'last5MatchsConcededGoals', 'last5MatchsWins', 'last5MatchsLoss',\n",
      "       'opponentScore5LastMatchs', 'opponentGoalAverageLast5Matchs',\n",
      "       'opponentLast5MatchsScoredGoals', 'opponentLast5MatchsConcededGoals',\n",
      "       'opponentLast5MatchsWins', 'opponentLast5MatchsLoss', 'isHome',\n",
      "       'isWinning', 'scoredGoals', 'concededGoals', 'nameTeam',\n",
      "       'opponentNameTeam'],\n",
      "      dtype='object')\n"
     ]
    },
    {
     "data": {
      "text/plain": "   score5LastMatchs  goalAverageLast5Matchs  last5MatchsScoredGoals  \\\n0         86.666667                       5                       9   \n1         66.666667                       2                       8   \n2         60.000000                       2                       7   \n3         40.000000                       1                       5   \n4         20.000000                       0                       2   \n\n   last5MatchsConcededGoals  last5MatchsWins  last5MatchsLoss  \\\n0                         4                4                0   \n1                         6                3                1   \n2                         5                3                1   \n3                         4                2                1   \n4                         2                1                1   \n\n   opponentScore5LastMatchs  opponentGoalAverageLast5Matchs  \\\n0                 86.666667                               7   \n1                 66.666667                               3   \n2                 26.666667                               1   \n3                 33.333333                               2   \n4                 20.000000                               0   \n\n   opponentLast5MatchsScoredGoals  opponentLast5MatchsConcededGoals  \\\n0                               8                                 1   \n1                               8                                 5   \n2                               7                                 6   \n3                               2                                 0   \n4                               3                                 3   \n\n   opponentLast5MatchsWins  opponentLast5MatchsLoss  isHome  isWinning  \\\n0                        4                        0       0          0   \n1                        3                        1       1          1   \n2                        1                        2       0          0   \n3                        1                        0       1          1   \n4                        1                        1       0          1   \n\n  scoredGoals concededGoals nameTeam opponentNameTeam  \n0           0             4     Lens            Lille  \n1           2             0     Lens       St Etienne  \n2           1             1     Lens            Nimes  \n3           2             1     Lens         Bordeaux  \n4           3             2     Lens          Lorient  ",
      "text/html": "<div>\n<style scoped>\n    .dataframe tbody tr th:only-of-type {\n        vertical-align: middle;\n    }\n\n    .dataframe tbody tr th {\n        vertical-align: top;\n    }\n\n    .dataframe thead th {\n        text-align: right;\n    }\n</style>\n<table border=\"1\" class=\"dataframe\">\n  <thead>\n    <tr style=\"text-align: right;\">\n      <th></th>\n      <th>score5LastMatchs</th>\n      <th>goalAverageLast5Matchs</th>\n      <th>last5MatchsScoredGoals</th>\n      <th>last5MatchsConcededGoals</th>\n      <th>last5MatchsWins</th>\n      <th>last5MatchsLoss</th>\n      <th>opponentScore5LastMatchs</th>\n      <th>opponentGoalAverageLast5Matchs</th>\n      <th>opponentLast5MatchsScoredGoals</th>\n      <th>opponentLast5MatchsConcededGoals</th>\n      <th>opponentLast5MatchsWins</th>\n      <th>opponentLast5MatchsLoss</th>\n      <th>isHome</th>\n      <th>isWinning</th>\n      <th>scoredGoals</th>\n      <th>concededGoals</th>\n      <th>nameTeam</th>\n      <th>opponentNameTeam</th>\n    </tr>\n  </thead>\n  <tbody>\n    <tr>\n      <th>0</th>\n      <td>86.666667</td>\n      <td>5</td>\n      <td>9</td>\n      <td>4</td>\n      <td>4</td>\n      <td>0</td>\n      <td>86.666667</td>\n      <td>7</td>\n      <td>8</td>\n      <td>1</td>\n      <td>4</td>\n      <td>0</td>\n      <td>0</td>\n      <td>0</td>\n      <td>0</td>\n      <td>4</td>\n      <td>Lens</td>\n      <td>Lille</td>\n    </tr>\n    <tr>\n      <th>1</th>\n      <td>66.666667</td>\n      <td>2</td>\n      <td>8</td>\n      <td>6</td>\n      <td>3</td>\n      <td>1</td>\n      <td>66.666667</td>\n      <td>3</td>\n      <td>8</td>\n      <td>5</td>\n      <td>3</td>\n      <td>1</td>\n      <td>1</td>\n      <td>1</td>\n      <td>2</td>\n      <td>0</td>\n      <td>Lens</td>\n      <td>St Etienne</td>\n    </tr>\n    <tr>\n      <th>2</th>\n      <td>60.000000</td>\n      <td>2</td>\n      <td>7</td>\n      <td>5</td>\n      <td>3</td>\n      <td>1</td>\n      <td>26.666667</td>\n      <td>1</td>\n      <td>7</td>\n      <td>6</td>\n      <td>1</td>\n      <td>2</td>\n      <td>0</td>\n      <td>0</td>\n      <td>1</td>\n      <td>1</td>\n      <td>Lens</td>\n      <td>Nimes</td>\n    </tr>\n    <tr>\n      <th>3</th>\n      <td>40.000000</td>\n      <td>1</td>\n      <td>5</td>\n      <td>4</td>\n      <td>2</td>\n      <td>1</td>\n      <td>33.333333</td>\n      <td>2</td>\n      <td>2</td>\n      <td>0</td>\n      <td>1</td>\n      <td>0</td>\n      <td>1</td>\n      <td>1</td>\n      <td>2</td>\n      <td>1</td>\n      <td>Lens</td>\n      <td>Bordeaux</td>\n    </tr>\n    <tr>\n      <th>4</th>\n      <td>20.000000</td>\n      <td>0</td>\n      <td>2</td>\n      <td>2</td>\n      <td>1</td>\n      <td>1</td>\n      <td>20.000000</td>\n      <td>0</td>\n      <td>3</td>\n      <td>3</td>\n      <td>1</td>\n      <td>1</td>\n      <td>0</td>\n      <td>1</td>\n      <td>3</td>\n      <td>2</td>\n      <td>Lens</td>\n      <td>Lorient</td>\n    </tr>\n  </tbody>\n</table>\n</div>"
     },
     "execution_count": 25,
     "metadata": {},
     "output_type": "execute_result"
    }
   ],
   "source": [
    "print(dfTotal.keys())\n",
    "dfTotal.head()"
   ],
   "metadata": {
    "collapsed": false,
    "pycharm": {
     "name": "#%%\n"
    }
   }
  },
  {
   "cell_type": "markdown",
   "source": [
    "Chance qu'une équipe l'emporte par rapport à sa série de défaite\n",
    "On observe que les équipes qui ne perdent pas s'en sortent le mieux\n",
    "Toutefois, Certaines équipes arrivent à se sortir d'une mauvaise série, notammenent celles qui ont eu 3 défaites sur les derniers matchs"
   ],
   "metadata": {
    "collapsed": false,
    "pycharm": {
     "name": "#%% md\n"
    }
   }
  },
  {
   "cell_type": "code",
   "execution_count": 26,
   "outputs": [
    {
     "data": {
      "text/plain": "<Figure size 432x288 with 1 Axes>",
      "image/png": "[encoded data removed]"
     },
     "metadata": {
      "needs_background": "light"
     },
     "output_type": "display_data"
    }
   ],
   "source": [
    "sns.barplot(x='last5MatchsLoss', y= 'isWinning', data=dfTotal)\n",
    "plt.show()"
   ],
   "metadata": {
    "collapsed": false,
    "pycharm": {
     "name": "#%%\n"
    }
   }
  },
  {
   "cell_type": "markdown",
   "source": [
    "<h2>Entrainement du modèle avec le RandomForestClassifier"
   ],
   "metadata": {
    "collapsed": false
   }
  },
  {
   "cell_type": "code",
   "execution_count": 27,
   "outputs": [
    {
     "name": "stdout",
     "output_type": "stream",
     "text": [
      "0.6\n"
     ]
    }
   ],
   "source": [
    "from sklearn.ensemble import GradientBoostingClassifier\n",
    "from sklearn.model_selection import  train_test_split\n",
    "X = dfTotal[['isWinning', 'isHome', 'last5MatchsWins', 'last5MatchsLoss','opponentGoalAverageLast5Matchs' ,'last5MatchsConcededGoals', 'opponentLast5MatchsLoss', 'opponentLast5MatchsWins','opponentLast5MatchsConcededGoals','opponentLast5MatchsScoredGoals',\n",
    "                 'last5MatchsScoredGoals', 'score5LastMatchs', 'goalAverageLast5Matchs', 'opponentScore5LastMatchs']]\n",
    "y = dfTotal['isWinning']\n",
    "del X['isWinning']\n",
    "x_train, x_val, y_train, y_val = train_test_split(X,y,test_size=0.2)\n",
    "from sklearn.metrics import accuracy_score\n",
    "cls = RandomForestClassifier(n_estimators=200, max_depth=2).fit(x_train, y_train)\n",
    "score = cls.score(x_val, y_val)\n",
    "filename = StaticInfos.pickleFileName\n",
    "pickle.dump(cls, open(filename, 'wb'))\n",
    "print(score)"
   ],
   "metadata": {
    "collapsed": false,
    "pycharm": {
     "name": "#%%\n"
    }
   }
  },
  {
   "cell_type": "markdown",
   "source": [
    "<p>Résultat assez moyen, il manque des lignes au dataset initial (seulement  100), mais les données de cette api sont limitées\n",
    "<p>Une source de données avec un nombre de renseignements plus important aurait été préférable ainsi qu'avec des données plus singulières telles que la note des joueurs de chaque équipe"
   ],
   "metadata": {
    "collapsed": false
   }
  },
  {
   "cell_type": "markdown",
   "source": [
    "Test de prédiction à partir de deux identifiants d'équipe"
   ],
   "metadata": {
    "collapsed": false
   }
  },
  {
   "cell_type": "code",
   "source": [
    "opposition = getNextMatchDataframe('133822', '133707', type)"
   ],
   "metadata": {
    "collapsed": false,
    "pycharm": {
     "name": "#%%\n"
    }
   },
   "execution_count": 28,
   "outputs": []
  },
  {
   "cell_type": "code",
   "source": [
    "cls = pickle.load(open(\"L1_predict.pkl\", \"rb\"))\n",
    "x_predictor = opposition[\n",
    "        ['isHome', 'last5MatchsWins', 'last5MatchsLoss', 'opponentGoalAverageLast5Matchs',\n",
    "          'last5MatchsConcededGoals', 'opponentLast5MatchsLoss', 'opponentLast5MatchsWins',\n",
    "          'opponentLast5MatchsConcededGoals', 'opponentLast5MatchsScoredGoals',\n",
    "          'last5MatchsScoredGoals', 'score5LastMatchs', 'goalAverageLast5Matchs', 'opponentScore5LastMatchs']]\n",
    "(cls.predict_proba(x_predictor)).max()"
   ],
   "metadata": {
    "collapsed": false,
    "pycharm": {
     "name": "#%%\n"
    }
   },
   "execution_count": 29,
   "outputs": [
    {
     "data": {
      "text/plain": "0.7272068777612029"
     },
     "execution_count": 29,
     "metadata": {},
     "output_type": "execute_result"
    }
   ]
  },
  {
   "cell_type": "markdown",
   "source": [
    "L'équipe 133822 est favoris pour ce match"
   ],
   "metadata": {
    "collapsed": false,
    "pycharm": {
     "name": "#%% md\n"
    }
   }
  },
  {
   "cell_type": "markdown",
   "source": [
    " <h2>Matrice de confusion</h1>\n",
    "<p>On observe que le modèle peut se tromper"
   ],
   "metadata": {
    "collapsed": false,
    "pycharm": {
     "name": "#%% md\n"
    }
   }
  },
  {
   "cell_type": "code",
   "execution_count": 30,
   "outputs": [
    {
     "data": {
      "text/plain": "array([[12,  2],\n       [ 6,  0]])"
     },
     "execution_count": 30,
     "metadata": {},
     "output_type": "execute_result"
    }
   ],
   "source": [
    "from sklearn.metrics import confusion_matrix\n",
    "confusion_matrix(y_val, cls.predict(x_val))\n"
   ],
   "metadata": {
    "collapsed": false,
    "pycharm": {
     "name": "#%%\n"
    }
   }
  },
  {
   "cell_type": "code",
   "execution_count": 30,
   "outputs": [],
   "source": [
    "\n"
   ],
   "metadata": {
    "collapsed": false,
    "pycharm": {
     "name": "#%%\n"
    }
   }
  }
 ],
 "metadata": {
  "kernelspec": {
   "name": "pycharm-a585a5b",
   "language": "python",
   "display_name": "PyCharm (bet-ml)"
  },
  "language_info": {
   "codemirror_mode": {
    "name": "ipython",
    "version": 2
   },
   "file_extension": ".py",
   "mimetype": "text/x-python",
   "name": "python",
   "nbconvert_exporter": "python",
   "pygments_lexer": "ipython2",
   "version": "3.8.5-final"
  }
 },
 "nbformat": 4,
 "nbformat_minor": 0
}